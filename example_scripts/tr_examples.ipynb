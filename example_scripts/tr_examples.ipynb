{
 "cells": [
  {
   "cell_type": "code",
   "execution_count": 2,
   "id": "91c2eb96-b62f-416b-b2bf-3c1727016806",
   "metadata": {},
   "outputs": [],
   "source": [
    "import pandas as pd\n",
    "import numpy as np\n",
    "from sklearn.metrics import pairwise_distances\n",
    "from adaptor.utils.args import TRArgs\n",
    "from adaptor.utils.utils import set_seed\n",
    "from adaptor.TR.distance import calculate_distance_parallel\n",
    "from adaptor.TR.topoReg import TopoReg, TopoReg_desc"
   ]
  },
  {
   "cell_type": "markdown",
   "id": "5a248f8e",
   "metadata": {},
   "source": [
    "## Run AdapToR with distances "
   ]
  },
  {
   "cell_type": "code",
   "execution_count": null,
   "id": "de3379ce",
   "metadata": {},
   "outputs": [
    {
     "name": "stdout",
     "output_type": "stream",
     "text": [
      "Final test performance:\n",
      "Spearman: 0.9317471566657725\n",
      "R2: 0.8692531426774518\n",
      "RMSE: 0.5075985496236505\n",
      "NRMSE: 0.3615893490170143\n",
      "PCC: 0.9397836203757282\n",
      "Bias: 0.12001183270567459\n"
     ]
    }
   ],
   "source": [
    "# load the data\n",
    "path = '../example_datasets/CHEMBL278/'\n",
    "# load the descriptor\n",
    "desc = pd.read_parquet(f'{path}/data_mhfp6.parquet', engine='fastparquet')\n",
    "# load targets\n",
    "data = pd.read_csv(f'{path}/data_cp.csv', index_col=0)\n",
    "target = data[\"pChEMBL Value\"].to_frame()\n",
    "# calculate the distances\n",
    "# structure distances\n",
    "distance_x = calculate_distance_parallel(desc, desc.index, desc.index, distance='mhfp_jaccard', cpus=1)\n",
    "distance_x = pd.DataFrame(distance_x, index=desc.index, columns=desc.index) \n",
    "# response distances\n",
    "distance_y = pairwise_distances(target.values.reshape(-1, 1), metric=\"euclidean\", n_jobs=-1)\n",
    "distance_y = pd.DataFrame(distance_y, index=target.index, columns=target.index)\n",
    "\n",
    "# load the train and test indices\n",
    "fold = 0\n",
    "train_file = f\"{path}/train_fold_{fold}.csv\"\n",
    "test_file = f\"{path}/test_fold_{fold}.csv\"\n",
    "train_idx = pd.read_csv(train_file)['Compound_ID'].tolist()\n",
    "test_idx = pd.read_csv(test_file)['Compound_ID'].tolist()\n",
    "# make sure that train and test indices are included in target.index\n",
    "train_idx = [idx for idx in train_idx if idx in target.index]\n",
    "test_idx = [idx for idx in test_idx if idx in target.index]\n",
    "\n",
    "# get the args\n",
    "# to get the models: -save_mdls 1\n",
    "args = TRArgs(\"\"\"\n",
    "    -num_anchors_y 10 \n",
    "    -anchors_y_sel cluster \n",
    "    -num_anchors_x 0.15 \n",
    "    -anchor_x_sel adaptive \n",
    "    -num_steps 4 \n",
    "    -model LR_L2 \n",
    "    -recon optimize\n",
    "\"\"\")\n",
    "# set random seed\n",
    "set_seed(args.seed)\n",
    "\n",
    "# train the AdapToR model and get the predictions\n",
    "metrics, preds_test, preds_val, preds_val_stack, \\\n",
    "pred_test, anchors_idx_x_all, anchors_idx_y, models = TopoReg(\n",
    "    distance_x, distance_y, target, \n",
    "    train_idx, test_idx, args\n",
    ")\n"
   ]
  },
  {
   "cell_type": "markdown",
   "id": "f0092600",
   "metadata": {},
   "source": [
    "### Alternatively, we can use the function TopoReg_desc that takes descriptors and targtes as inputs instead of distances."
   ]
  },
  {
   "cell_type": "code",
   "execution_count": null,
   "id": "e0c755cc",
   "metadata": {},
   "outputs": [
    {
     "name": "stdout",
     "output_type": "stream",
     "text": [
      "Final test performance:\n",
      "Spearman: 0.9305373572846873\n",
      "R2: 0.8606351470937781\n",
      "RMSE: 0.5240604355688506\n",
      "NRMSE: 0.37331602283617826\n",
      "PCC: 0.9358399595683664\n",
      "Bias: 0.12423635992122747\n"
     ]
    }
   ],
   "source": [
    "# train the AdapToR model and get the predictions\n",
    "metrics, preds_test, preds_val, preds_val_stack, \\\n",
    "pred_test, anchors_idx_x_all, anchors_idx_y, models = TopoReg_desc(\n",
    "    desc, target, train_idx, test_idx, args\n",
    ")"
   ]
  },
  {
   "cell_type": "markdown",
   "id": "057ed1ed",
   "metadata": {},
   "source": [
    "### Example codes to save and load results"
   ]
  },
  {
   "cell_type": "code",
   "execution_count": null,
   "id": "3efbc500",
   "metadata": {},
   "outputs": [],
   "source": [
    "import os\n",
    "from adaptor.utils.utils import save_results, load_results\n",
    "# To save the results\n",
    "output_suffix = f'CHEMBL278_fold_{fold}'\n",
    "results_folder = f'../results/'\n",
    "os.makedirs(results_folder, exist_ok=True)\n",
    "indices = {\n",
    "    \"train_idx\": train_idx,\n",
    "    \"test_idx\": test_idx,\n",
    "    \"anchors_idx_x_all\": anchors_idx_x_all,\n",
    "    \"anchors_idx_y\": anchors_idx_y\n",
    "}\n",
    "save_results(results_folder, output_suffix, metrics, preds_test, preds_val, preds_val_stack, indices, models, args)\n",
    "# save the metrics to a csv file\n",
    "output_file = f'{results_folder}/test_metrics_results_{output_suffix}.csv'\n",
    "pd.DataFrame(metrics).to_csv(output_file, index=False)\n",
    "\n",
    "# To load the results\n",
    "metrics, preds_test, preds_val, preds_val_stack, indices, models = load_results(results_folder, output_suffix)\n",
    "# unpack the indices\n",
    "train_idx = indices[\"train_idx\"]\n",
    "test_idx = indices[\"test_idx\"]\n",
    "anchors_idx_x_all = indices[\"anchors_idx_x_all\"]\n",
    "anchors_idx_y = indices[\"anchors_idx_y\"]"
   ]
  },
  {
   "cell_type": "markdown",
   "id": "3fe130fb",
   "metadata": {},
   "source": [
    "## Ablation analysis of AdapToR"
   ]
  },
  {
   "cell_type": "markdown",
   "id": "71668b5e",
   "metadata": {},
   "source": [
    "### Prepare data"
   ]
  },
  {
   "cell_type": "code",
   "execution_count": 9,
   "id": "e9c54d9b",
   "metadata": {},
   "outputs": [],
   "source": [
    "# load the data\n",
    "path = '../example_datasets/CHEMBL278/'\n",
    "# load the descriptor\n",
    "desc = pd.read_parquet(f'{path}/data_mhfp6.parquet', engine='fastparquet')\n",
    "desc_ecfp4 = pd.read_parquet(f'{path}/data_ECFP4.parquet', engine='fastparquet').astype('bool')\n",
    "# load targets\n",
    "data = pd.read_csv(f'{path}/data_cp.csv', index_col=0)\n",
    "target = data[\"pChEMBL Value\"].to_frame()\n",
    "# calculate the distances\n",
    "# structure distances\n",
    "distance_x = calculate_distance_parallel(desc, desc.index, desc.index, distance='mhfp_jaccard', cpus=1)\n",
    "distance_x = pd.DataFrame(distance_x, index=desc.index, columns=desc.index) \n",
    "distance_x_ecfp4 = calculate_distance_parallel(desc_ecfp4, desc_ecfp4.index, desc_ecfp4.index, distance='jaccard', cpus=1)\n",
    "distance_x_ecfp4 = pd.DataFrame(distance_x_ecfp4, index=desc_ecfp4.index, columns=desc_ecfp4.index) \n",
    "# response distances\n",
    "distance_y = pairwise_distances(target.values.reshape(-1, 1), metric=\"euclidean\", n_jobs=-1)\n",
    "distance_y = pd.DataFrame(distance_y, index=target.index, columns=target.index)\n",
    "\n",
    "# load the train and test indices\n",
    "fold = 0\n",
    "train_file = f\"{path}/train_fold_{fold}.csv\"\n",
    "test_file = f\"{path}/test_fold_{fold}.csv\"\n",
    "train_idx = pd.read_csv(train_file)['Compound_ID'].tolist()\n",
    "test_idx = pd.read_csv(test_file)['Compound_ID'].tolist()\n",
    "# make sure that train and test indices are included in target.index\n",
    "train_idx = [idx for idx in train_idx if idx in target.index]\n",
    "test_idx = [idx for idx in test_idx if idx in target.index]"
   ]
  },
  {
   "cell_type": "markdown",
   "id": "ba9ffd62",
   "metadata": {},
   "source": [
    "### TR"
   ]
  },
  {
   "cell_type": "code",
   "execution_count": null,
   "id": "b0ce357b",
   "metadata": {},
   "outputs": [
    {
     "name": "stdout",
     "output_type": "stream",
     "text": [
      "Final test performance:\n",
      "Spearman: 0.9136001659494947\n",
      "R2: 0.8440375480656079\n",
      "RMSE: 0.5543892114660223\n",
      "NRMSE: 0.3949208172968247\n",
      "PCC: 0.9265127809519669\n",
      "Bias: 0.1631237998341933\n"
     ]
    }
   ],
   "source": [
    "# get the args\n",
    "args = TRArgs(\"\"\"\n",
    "    -anchors_y_sel same \n",
    "    -num_anchors_x 0.6 \n",
    "    -anchor_x_sel random \n",
    "    -num_steps 1 \n",
    "    -model LR \n",
    "    -recon rbf\n",
    "\"\"\")\n",
    "# set random seed\n",
    "set_seed(args.seed)\n",
    "\n",
    "# train the AdapToR model and get the predictions\n",
    "metrics, preds_test, preds_val, preds_val_stack, \\\n",
    "pred_test, anchors_idx_x_all, anchors_idx_y, models = TopoReg(\n",
    "    distance_x_ecfp4, distance_y, target, \n",
    "    train_idx, test_idx, args\n",
    ")\n"
   ]
  },
  {
   "cell_type": "markdown",
   "id": "5649ce20",
   "metadata": {},
   "source": [
    "### TR (L2)"
   ]
  },
  {
   "cell_type": "code",
   "execution_count": 11,
   "id": "4c4d8809",
   "metadata": {},
   "outputs": [
    {
     "name": "stdout",
     "output_type": "stream",
     "text": [
      "Final test performance:\n",
      "Spearman: 0.9065430028931645\n",
      "R2: 0.8518942790444715\n",
      "RMSE: 0.5402448808597815\n",
      "NRMSE: 0.38484506097328114\n",
      "PCC: 0.9295958442514846\n",
      "Bias: 0.1871990209363205\n"
     ]
    }
   ],
   "source": [
    "# get the args\n",
    "args = TRArgs(\"\"\"\n",
    "    -anchors_y_sel same \n",
    "    -num_anchors_x 0.6 \n",
    "    -anchor_x_sel random \n",
    "    -num_steps 1 \n",
    "    -model LR_L2 \n",
    "    -recon rbf\n",
    "\"\"\")\n",
    "# set random seed\n",
    "set_seed(args.seed)\n",
    "\n",
    "# train the AdapToR model and get the predictions\n",
    "metrics, preds_test, preds_val, preds_val_stack, \\\n",
    "pred_test, anchors_idx_x_all, anchors_idx_y, models = TopoReg(\n",
    "    distance_x_ecfp4, distance_y, target, \n",
    "    train_idx, test_idx, args\n",
    ")"
   ]
  },
  {
   "cell_type": "markdown",
   "id": "beb9d8c6",
   "metadata": {},
   "source": [
    "### TR (L2, MHFP)"
   ]
  },
  {
   "cell_type": "code",
   "execution_count": 12,
   "id": "e328ddef",
   "metadata": {},
   "outputs": [
    {
     "name": "stdout",
     "output_type": "stream",
     "text": [
      "Final test performance:\n",
      "Spearman: 0.916019764711665\n",
      "R2: 0.8374217961801574\n",
      "RMSE: 0.5660253783168819\n",
      "NRMSE: 0.403209875647711\n",
      "PCC: 0.9255661362517185\n",
      "Bias: 0.17705609201683814\n"
     ]
    }
   ],
   "source": [
    "# get the args\n",
    "args = TRArgs(\"\"\"\n",
    "    -anchors_y_sel same \n",
    "    -num_anchors_x 0.6 \n",
    "    -anchor_x_sel random \n",
    "    -num_steps 1 \n",
    "    -model LR_L2 \n",
    "    -recon rbf\n",
    "\"\"\")\n",
    "# set random seed\n",
    "set_seed(args.seed)\n",
    "\n",
    "# train the AdapToR model and get the predictions\n",
    "metrics, preds_test, preds_val, preds_val_stack, \\\n",
    "pred_test, anchors_idx_x_all, anchors_idx_y, models = TopoReg(\n",
    "    distance_x, distance_y, target, \n",
    "    train_idx, test_idx, args\n",
    ")"
   ]
  },
  {
   "cell_type": "markdown",
   "id": "e41bc882",
   "metadata": {},
   "source": [
    "### TR (Improved)"
   ]
  },
  {
   "cell_type": "code",
   "execution_count": 13,
   "id": "150b74ec",
   "metadata": {},
   "outputs": [
    {
     "name": "stdout",
     "output_type": "stream",
     "text": [
      "Final test performance:\n",
      "Spearman: 0.9148099653305798\n",
      "R2: 0.8302463392005774\n",
      "RMSE: 0.5783813990977283\n",
      "NRMSE: 0.41201172410432996\n",
      "PCC: 0.9228551294932994\n",
      "Bias: 0.18894127878056055\n"
     ]
    }
   ],
   "source": [
    "# get the args\n",
    "args = TRArgs(\"\"\"\n",
    "    -num_anchors_y 10 \n",
    "    -anchors_y_sel cluster \n",
    "    -num_anchors_x 0.6 \n",
    "    -anchor_x_sel random \n",
    "    -num_steps 1 \n",
    "    -model LR_L2 \n",
    "    -recon rbf\n",
    "\"\"\")\n",
    "# set random seed\n",
    "set_seed(args.seed)\n",
    "\n",
    "# train the AdapToR model and get the predictions\n",
    "metrics, preds_test, preds_val, preds_val_stack, \\\n",
    "pred_test, anchors_idx_x_all, anchors_idx_y, models = TopoReg(\n",
    "    distance_x, distance_y, target, \n",
    "    train_idx, test_idx, args\n",
    ")"
   ]
  },
  {
   "cell_type": "markdown",
   "id": "e72d81cb",
   "metadata": {},
   "source": [
    "### AdapToR (RBF)"
   ]
  },
  {
   "cell_type": "code",
   "execution_count": 14,
   "id": "217ce490",
   "metadata": {},
   "outputs": [
    {
     "name": "stdout",
     "output_type": "stream",
     "text": [
      "Final test performance:\n",
      "Spearman: 0.9269079591414315\n",
      "R2: 0.8487832660564587\n",
      "RMSE: 0.5458894108500031\n",
      "NRMSE: 0.38886595883869957\n",
      "PCC: 0.9295916579425507\n",
      "Bias: 0.1844702913070261\n"
     ]
    }
   ],
   "source": [
    "# get the args\n",
    "args = TRArgs(\"\"\"\n",
    "    -num_anchors_y 10 \n",
    "    -anchors_y_sel cluster \n",
    "    -num_anchors_x 0.15 \n",
    "    -anchor_x_sel adaptive \n",
    "    -num_steps 4 \n",
    "    -model LR_L2 \n",
    "    -recon rbf\n",
    "\"\"\")\n",
    "# set random seed\n",
    "set_seed(args.seed)\n",
    "\n",
    "# train the AdapToR model and get the predictions\n",
    "metrics, preds_test, preds_val, preds_val_stack, \\\n",
    "pred_test, anchors_idx_x_all, anchors_idx_y, models = TopoReg(\n",
    "    distance_x, distance_y, target, \n",
    "    train_idx, test_idx, args\n",
    ")"
   ]
  },
  {
   "cell_type": "markdown",
   "id": "6e16007a",
   "metadata": {},
   "source": [
    "### AdapToR"
   ]
  },
  {
   "cell_type": "code",
   "execution_count": 15,
   "id": "6bacf84c",
   "metadata": {},
   "outputs": [
    {
     "name": "stdout",
     "output_type": "stream",
     "text": [
      "Final test performance:\n",
      "Spearman: 0.9317471566657725\n",
      "R2: 0.8692531426774518\n",
      "RMSE: 0.5075985496236505\n",
      "NRMSE: 0.3615893490170143\n",
      "PCC: 0.9397836203757282\n",
      "Bias: 0.12001183270567459\n"
     ]
    }
   ],
   "source": [
    "# get the args\n",
    "args = TRArgs(\"\"\"\n",
    "    -num_anchors_y 10 \n",
    "    -anchors_y_sel cluster \n",
    "    -num_anchors_x 0.15 \n",
    "    -anchor_x_sel adaptive \n",
    "    -num_steps 4 \n",
    "    -model LR_L2 \n",
    "    -recon optimize\n",
    "\"\"\")\n",
    "# set random seed\n",
    "set_seed(args.seed)\n",
    "\n",
    "# train the AdapToR model and get the predictions\n",
    "metrics, preds_test, preds_val, preds_val_stack, \\\n",
    "pred_test, anchors_idx_x_all, anchors_idx_y, models = TopoReg(\n",
    "    distance_x, distance_y, target, \n",
    "    train_idx, test_idx, args\n",
    ")"
   ]
  },
  {
   "cell_type": "markdown",
   "id": "efa1a3ef",
   "metadata": {},
   "source": [
    "## Incorporating the ensemble and stakcing approaches"
   ]
  },
  {
   "cell_type": "markdown",
   "id": "46a8b9ec",
   "metadata": {},
   "source": [
    "### Prepare data"
   ]
  },
  {
   "cell_type": "code",
   "execution_count": 3,
   "id": "2b765167",
   "metadata": {},
   "outputs": [],
   "source": [
    "# load the data\n",
    "path = '../example_datasets/CHEMBL278/'\n",
    "# load the descriptor\n",
    "desc = pd.read_parquet(f'{path}/data_mhfp6.parquet', engine='fastparquet')\n",
    "desc_ecfp4 = pd.read_parquet(f'{path}/data_ECFP4.parquet', engine='fastparquet').astype('bool')\n",
    "# load targets\n",
    "data = pd.read_csv(f'{path}/data_cp.csv', index_col=0)\n",
    "target = data[\"pChEMBL Value\"].to_frame()\n",
    "# calculate the distances\n",
    "# structure distances\n",
    "distance_x = calculate_distance_parallel(desc, desc.index, desc.index, distance='mhfp_jaccard', cpus=1)\n",
    "distance_x = pd.DataFrame(distance_x, index=desc.index, columns=desc.index) \n",
    "distance_x_ecfp4 = calculate_distance_parallel(desc_ecfp4, desc_ecfp4.index, desc_ecfp4.index, distance='jaccard', cpus=1)\n",
    "distance_x_ecfp4 = pd.DataFrame(distance_x_ecfp4, index=desc_ecfp4.index, columns=desc_ecfp4.index) \n",
    "# response distances\n",
    "distance_y = pairwise_distances(target.values.reshape(-1, 1), metric=\"euclidean\", n_jobs=-1)\n",
    "distance_y = pd.DataFrame(distance_y, index=target.index, columns=target.index)\n",
    "\n",
    "# load the train and test indices\n",
    "fold = 0\n",
    "train_file = f\"{path}/train_fold_{fold}.csv\"\n",
    "test_file = f\"{path}/test_fold_{fold}.csv\"\n",
    "train_idx = pd.read_csv(train_file)['Compound_ID'].tolist()\n",
    "test_idx = pd.read_csv(test_file)['Compound_ID'].tolist()\n",
    "# make sure that train and test indices are included in target.index\n",
    "train_idx = [idx for idx in train_idx if idx in target.index]\n",
    "test_idx = [idx for idx in test_idx if idx in target.index]"
   ]
  },
  {
   "cell_type": "markdown",
   "id": "f483e049",
   "metadata": {},
   "source": [
    "### Ensemble TR (original)"
   ]
  },
  {
   "cell_type": "code",
   "execution_count": 20,
   "id": "80577d1f",
   "metadata": {},
   "outputs": [
    {
     "name": "stdout",
     "output_type": "stream",
     "text": [
      "Final test performance:\n",
      "Spearman: 0.9277144920621552\n",
      "R2: 0.8650376655356253\n",
      "RMSE: 0.5157165087431721\n",
      "NRMSE: 0.3673722015400385\n",
      "PCC: 0.9399210032683176\n",
      "Bias: 0.20404032734334132\n"
     ]
    }
   ],
   "source": [
    "# get the args\n",
    "args = TRArgs(\"\"\"\n",
    "    -anchors_y_sel same\n",
    "    -anchor_x_sel random\n",
    "    -random_anchor_perc 1\n",
    "    -num_steps 15 \n",
    "    -model LR \n",
    "    -recon rbf\n",
    "    -integrate_method ensemble\n",
    "    -append_anchors 0\n",
    "\"\"\")\n",
    "# set random seed\n",
    "set_seed(args.seed)\n",
    "\n",
    "# train the AdapToR model and get the predictions\n",
    "metrics, preds_test, preds_val, preds_val_stack, \\\n",
    "pred_test, anchors_idx_x_all, anchors_idx_y, models = TopoReg(\n",
    "    distance_x_ecfp4, distance_y, target, \n",
    "    train_idx, test_idx, args\n",
    ")"
   ]
  },
  {
   "cell_type": "markdown",
   "id": "af7fb28e",
   "metadata": {},
   "source": [
    "### Ensemble TR (enhanced)"
   ]
  },
  {
   "cell_type": "code",
   "execution_count": 21,
   "id": "5c8a6c7e",
   "metadata": {},
   "outputs": [
    {
     "name": "stdout",
     "output_type": "stream",
     "text": [
      "Final test performance:\n",
      "Spearman: 0.9148099653305798\n",
      "R2: 0.8469449692401291\n",
      "RMSE: 0.5491974948992563\n",
      "NRMSE: 0.39122248243150715\n",
      "PCC: 0.9292843002451947\n",
      "Bias: 0.14640650354600748\n"
     ]
    }
   ],
   "source": [
    "# get the args\n",
    "args = TRArgs(\"\"\"\n",
    "    -num_anchors_y 10 \n",
    "    -anchors_y_sel cluster\n",
    "    -anchor_x_sel random\n",
    "    -random_anchor_perc 1\n",
    "    -num_steps 15 \n",
    "    -model LR_L2 \n",
    "    -recon optimize\n",
    "    -integrate_method ensemble\n",
    "    -append_anchors 0\n",
    "\"\"\")\n",
    "# set random seed\n",
    "set_seed(args.seed)\n",
    "\n",
    "# train the AdapToR model and get the predictions\n",
    "metrics, preds_test, preds_val, preds_val_stack, \\\n",
    "pred_test, anchors_idx_x_all, anchors_idx_y, models = TopoReg(\n",
    "    distance_x, distance_y, target, \n",
    "    train_idx, test_idx, args\n",
    ")"
   ]
  },
  {
   "cell_type": "markdown",
   "id": "93bd432a",
   "metadata": {},
   "source": [
    "### Stack TR (enhanced)"
   ]
  },
  {
   "cell_type": "code",
   "execution_count": 4,
   "id": "7e0fd925",
   "metadata": {},
   "outputs": [
    {
     "name": "stdout",
     "output_type": "stream",
     "text": [
      "Final test performance:\n",
      "Spearman: 0.16090331768432944\n",
      "R2: -47.5994561341216\n",
      "RMSE: 9.786343326397201\n",
      "NRMSE: 6.971331015962562\n",
      "PCC: 0.16360253273241626\n",
      "Bias: -0.012402375314020324\n"
     ]
    }
   ],
   "source": [
    "# get the args\n",
    "args = TRArgs(\"\"\"\n",
    "    -num_anchors_y 10 \n",
    "    -anchors_y_sel cluster\n",
    "    -anchor_x_sel random\n",
    "    -random_anchor_perc 1\n",
    "    -num_steps 15 \n",
    "    -model LR_L2 \n",
    "    -recon optimize\n",
    "    -integrate_method stack\n",
    "    -append_anchors 0\n",
    "\"\"\")\n",
    "# set random seed\n",
    "set_seed(args.seed)\n",
    "\n",
    "# train the AdapToR model and get the predictions\n",
    "metrics, preds_test, preds_val, preds_val_stack, \\\n",
    "pred_test, anchors_idx_x_all, anchors_idx_y, models = TopoReg(\n",
    "    distance_x, distance_y, target, \n",
    "    train_idx, test_idx, args\n",
    ")"
   ]
  },
  {
   "cell_type": "markdown",
   "id": "6bbfcfdd",
   "metadata": {},
   "source": [
    "### AdapToR (ensemble)"
   ]
  },
  {
   "cell_type": "code",
   "execution_count": 5,
   "id": "17e2ba72",
   "metadata": {},
   "outputs": [
    {
     "name": "stdout",
     "output_type": "stream",
     "text": [
      "Final test performance:\n",
      "Spearman: 0.9109789339571435\n",
      "R2: 0.8525450778932087\n",
      "RMSE: 0.5390566153733726\n",
      "NRMSE: 0.383998596490653\n",
      "PCC: 0.9330456864807818\n",
      "Bias: 0.1367946336018341\n"
     ]
    }
   ],
   "source": [
    "# get the args\n",
    "args = TRArgs(\"\"\"\n",
    "    -num_anchors_y 10 \n",
    "    -anchors_y_sel cluster\n",
    "    -num_anchors_x 0.15          \n",
    "    -anchor_x_sel adaptive\n",
    "    -num_steps 4\n",
    "    -model LR_L2 \n",
    "    -recon optimize\n",
    "    -integrate_method ensemble\n",
    "\"\"\")\n",
    "# set random seed\n",
    "set_seed(args.seed)\n",
    "\n",
    "# train the AdapToR model and get the predictions\n",
    "metrics, preds_test, preds_val, preds_val_stack, \\\n",
    "pred_test, anchors_idx_x_all, anchors_idx_y, models = TopoReg(\n",
    "    distance_x, distance_y, target, \n",
    "    train_idx, test_idx, args\n",
    ")"
   ]
  },
  {
   "cell_type": "markdown",
   "id": "2275b84f",
   "metadata": {},
   "source": [
    "### AdapToR (stack)"
   ]
  },
  {
   "cell_type": "code",
   "execution_count": 6,
   "id": "d1dfd9de",
   "metadata": {},
   "outputs": [
    {
     "name": "stdout",
     "output_type": "stream",
     "text": [
      "Final test performance:\n",
      "Spearman: 0.6958362773541616\n",
      "R2: 0.4281309345771601\n",
      "RMSE: 1.0615807760230336\n",
      "NRMSE: 0.7562202492811468\n",
      "PCC: 0.6920227678485582\n",
      "Bias: 0.4220483115345252\n"
     ]
    }
   ],
   "source": [
    "# get the args\n",
    "args = TRArgs(\"\"\"\n",
    "    -num_anchors_y 10 \n",
    "    -anchors_y_sel cluster\n",
    "    -num_anchors_x 0.15          \n",
    "    -anchor_x_sel adaptive\n",
    "    -num_steps 4\n",
    "    -model LR_L2 \n",
    "    -recon optimize\n",
    "    -integrate_method stack\n",
    "\"\"\")\n",
    "# set random seed\n",
    "set_seed(args.seed)\n",
    "\n",
    "# train the AdapToR model and get the predictions\n",
    "metrics, preds_test, preds_val, preds_val_stack, \\\n",
    "pred_test, anchors_idx_x_all, anchors_idx_y, models = TopoReg(\n",
    "    distance_x, distance_y, target, \n",
    "    train_idx, test_idx, args\n",
    ")"
   ]
  }
 ],
 "metadata": {
  "kernelspec": {
   "display_name": "TopoReg",
   "language": "python",
   "name": "python3"
  },
  "language_info": {
   "codemirror_mode": {
    "name": "ipython",
    "version": 3
   },
   "file_extension": ".py",
   "mimetype": "text/x-python",
   "name": "python",
   "nbconvert_exporter": "python",
   "pygments_lexer": "ipython3",
   "version": "3.8.16"
  }
 },
 "nbformat": 4,
 "nbformat_minor": 5
}
